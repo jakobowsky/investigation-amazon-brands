{
 "cells": [
  {
   "cell_type": "markdown",
   "metadata": {},
   "source": [
    "# Error Analysis of Products\n",
    "This notebook analyzes buy boxes found on product pages. Specifically, how often the default sellers and shippers switch from Amazon to a third-party."
   ]
  },
  {
   "cell_type": "code",
   "execution_count": 1,
   "metadata": {},
   "outputs": [],
   "source": [
    "%load_ext autoreload\n",
    "%autoreload 2"
   ]
  },
  {
   "cell_type": "code",
   "execution_count": 2,
   "metadata": {},
   "outputs": [],
   "source": [
    "import os\n",
    "import re\n",
    "import glob\n",
    "import math\n",
    "import json\n",
    "from collections import Counter\n",
    "from multiprocessing import Pool\n",
    "\n",
    "from tqdm import tqdm\n",
    "from lxml import html\n",
    "import numpy as np\n",
    "import pandas as pd\n",
    "\n",
    "import parsers as P\n",
    "from utils import value_counts\n",
    "from parsers import process_search_result, is_sold_by_amazon, is_shipped_by_amazon"
   ]
  },
  {
   "cell_type": "code",
   "execution_count": 3,
   "metadata": {},
   "outputs": [],
   "source": [
    "# inputs\n",
    "fn_prod = '../data/output/datasets/products.csv.xz'\n",
    "fn_amazon = '../data/output/datasets/amazon_private_label.csv.xz'\n",
    "\n",
    "fn_prod_new = '../data/output/datasets/products-sample-spotcheck.csv.xz'\n",
    "pattern_spot_check = '../data/input/spotcheck/selenium-products/*/*/*/2021/05/*/webpage_product.html'"
   ]
  },
  {
   "cell_type": "code",
   "execution_count": 4,
   "metadata": {},
   "outputs": [],
   "source": [
    "df_amazon = pd.read_csv(fn_amazon, compression='xz')\n",
    "amazon_asin = df_amazon.asin.tolist()"
   ]
  },
  {
   "cell_type": "code",
   "execution_count": 5,
   "metadata": {},
   "outputs": [
    {
     "data": {
      "text/plain": [
       "157405"
      ]
     },
     "execution_count": 5,
     "metadata": {},
     "output_type": "execute_result"
    }
   ],
   "source": [
    "df_prod = pd.read_csv(fn_prod, compression='xz')\n",
    "len(df_prod)"
   ]
  },
  {
   "cell_type": "markdown",
   "metadata": {},
   "source": [
    "## Check product pages"
   ]
  },
  {
   "cell_type": "code",
   "execution_count": 6,
   "metadata": {},
   "outputs": [
    {
     "data": {
      "text/html": [
       "<div>\n",
       "<style scoped>\n",
       "    .dataframe tbody tr th:only-of-type {\n",
       "        vertical-align: middle;\n",
       "    }\n",
       "\n",
       "    .dataframe tbody tr th {\n",
       "        vertical-align: top;\n",
       "    }\n",
       "\n",
       "    .dataframe thead th {\n",
       "        text-align: right;\n",
       "    }\n",
       "</style>\n",
       "<table border=\"1\" class=\"dataframe\">\n",
       "  <thead>\n",
       "    <tr style=\"text-align: right;\">\n",
       "      <th></th>\n",
       "      <th>count</th>\n",
       "      <th>percentage</th>\n",
       "    </tr>\n",
       "  </thead>\n",
       "  <tbody>\n",
       "    <tr>\n",
       "      <th>False</th>\n",
       "      <td>156209</td>\n",
       "      <td>0.992402</td>\n",
       "    </tr>\n",
       "    <tr>\n",
       "      <th>True</th>\n",
       "      <td>1196</td>\n",
       "      <td>0.007598</td>\n",
       "    </tr>\n",
       "  </tbody>\n",
       "</table>\n",
       "</div>"
      ],
      "text/plain": [
       "        count  percentage\n",
       "False  156209    0.992402\n",
       "True     1196    0.007598"
      ]
     },
     "execution_count": 6,
     "metadata": {},
     "output_type": "execute_result"
    }
   ],
   "source": [
    "value_counts(df_prod, \"is_page_gone\")"
   ]
  },
  {
   "cell_type": "code",
   "execution_count": 7,
   "metadata": {},
   "outputs": [
    {
     "data": {
      "text/html": [
       "<div>\n",
       "<style scoped>\n",
       "    .dataframe tbody tr th:only-of-type {\n",
       "        vertical-align: middle;\n",
       "    }\n",
       "\n",
       "    .dataframe tbody tr th {\n",
       "        vertical-align: top;\n",
       "    }\n",
       "\n",
       "    .dataframe thead th {\n",
       "        text-align: right;\n",
       "    }\n",
       "</style>\n",
       "<table border=\"1\" class=\"dataframe\">\n",
       "  <thead>\n",
       "    <tr style=\"text-align: right;\">\n",
       "      <th></th>\n",
       "      <th>count</th>\n",
       "      <th>percentage</th>\n",
       "    </tr>\n",
       "  </thead>\n",
       "  <tbody>\n",
       "    <tr>\n",
       "      <th>False</th>\n",
       "      <td>151805</td>\n",
       "      <td>0.964423</td>\n",
       "    </tr>\n",
       "    <tr>\n",
       "      <th>True</th>\n",
       "      <td>5600</td>\n",
       "      <td>0.035577</td>\n",
       "    </tr>\n",
       "  </tbody>\n",
       "</table>\n",
       "</div>"
      ],
      "text/plain": [
       "        count  percentage\n",
       "False  151805    0.964423\n",
       "True     5600    0.035577"
      ]
     },
     "execution_count": 7,
     "metadata": {},
     "output_type": "execute_result"
    }
   ],
   "source": [
    "value_counts(df_prod, \"no_buybox_winner\")"
   ]
  },
  {
   "cell_type": "code",
   "execution_count": 8,
   "metadata": {},
   "outputs": [
    {
     "data": {
      "text/plain": [
       "0.03895047806613513"
      ]
     },
     "execution_count": 8,
     "metadata": {},
     "output_type": "execute_result"
    }
   ],
   "source": [
    "len(df_prod[(df_prod.is_out_of_stock == True) |\n",
    "            (df_prod.is_page_gone == True)]) / len(df_prod)"
   ]
  },
  {
   "cell_type": "code",
   "execution_count": 9,
   "metadata": {},
   "outputs": [
    {
     "data": {
      "text/plain": [
       "False    0.615038\n",
       "True     0.282456\n",
       "True     0.102506\n",
       "Name: is_sold_by_amazon, dtype: float64"
      ]
     },
     "execution_count": 9,
     "metadata": {},
     "output_type": "execute_result"
    }
   ],
   "source": [
    "df_prod.is_sold_by_amazon.value_counts(normalize=True, dropna=False)"
   ]
  },
  {
   "cell_type": "code",
   "execution_count": 10,
   "metadata": {},
   "outputs": [
    {
     "data": {
      "text/plain": [
       "0.10250627362536133"
      ]
     },
     "execution_count": 10,
     "metadata": {},
     "output_type": "execute_result"
    }
   ],
   "source": [
    "len(df_prod[df_prod.sold_by.isnull()]) / len(df_prod)"
   ]
  },
  {
   "cell_type": "markdown",
   "metadata": {},
   "source": [
    "## Check re-collected product pages\n",
    "We pulled a random sample of valid product pages, and re-collected them a few months later."
   ]
  },
  {
   "cell_type": "code",
   "execution_count": 11,
   "metadata": {},
   "outputs": [],
   "source": [
    "# parse the re-collected products.\n",
    "if not os.path.exists(fn_prod_new):\n",
    "    files_products = glob.glob(pattern_spot_check)\n",
    "    product_data = []\n",
    "    with Pool(processes=32) as pool:\n",
    "        for record in tqdm(pool.imap_unordered(P.parse_product_page, \n",
    "                                               files_products), \n",
    "                           total=len(files_products)):\n",
    "            product_data.append(record)\n",
    "\n",
    "    df_prod_new = pd.DataFrame(product_data)\n",
    "    \n",
    "    df_prod_new[\"asin\"] = df_prod_new.fn.apply(lambda x: x.split('/2021')[0].split('/')[-1])\n",
    "    valid_asins = df_prod[~df_prod.sold_by.isnull()].asin\n",
    "    df_prod_new = df_prod_new[df_prod_new.asin.isin(valid_asins)]\n",
    "    df_prod_new = df_prod_new.sample(2500, random_state=303)\n",
    "    \n",
    "    df_prod_new['is_sold_by_amazon'] = df_prod_new.apply(is_sold_by_amazon, axis=1)\n",
    "    df_prod_new['is_shipped_by_amazon'] = df_prod_new.apply(is_shipped_by_amazon, axis=1)\n",
    "    \n",
    "    df_prod_new.to_csv(fn_prod_new, index=False, compression='xz')\n",
    "else:\n",
    "    df_prod_new = pd.read_csv(fn_prod_new, compression='xz')"
   ]
  },
  {
   "cell_type": "code",
   "execution_count": 12,
   "metadata": {},
   "outputs": [
    {
     "data": {
      "text/html": [
       "<div>\n",
       "<style scoped>\n",
       "    .dataframe tbody tr th:only-of-type {\n",
       "        vertical-align: middle;\n",
       "    }\n",
       "\n",
       "    .dataframe tbody tr th {\n",
       "        vertical-align: top;\n",
       "    }\n",
       "\n",
       "    .dataframe thead th {\n",
       "        text-align: right;\n",
       "    }\n",
       "</style>\n",
       "<table border=\"1\" class=\"dataframe\">\n",
       "  <thead>\n",
       "    <tr style=\"text-align: right;\">\n",
       "      <th></th>\n",
       "      <th>count</th>\n",
       "      <th>percentage</th>\n",
       "    </tr>\n",
       "  </thead>\n",
       "  <tbody>\n",
       "    <tr>\n",
       "      <th>False</th>\n",
       "      <td>2347</td>\n",
       "      <td>0.9388</td>\n",
       "    </tr>\n",
       "    <tr>\n",
       "      <th>True</th>\n",
       "      <td>153</td>\n",
       "      <td>0.0612</td>\n",
       "    </tr>\n",
       "  </tbody>\n",
       "</table>\n",
       "</div>"
      ],
      "text/plain": [
       "       count  percentage\n",
       "False   2347      0.9388\n",
       "True     153      0.0612"
      ]
     },
     "execution_count": 12,
     "metadata": {},
     "output_type": "execute_result"
    }
   ],
   "source": [
    "value_counts(df_prod_new, \"is_out_of_stock\")"
   ]
  },
  {
   "cell_type": "code",
   "execution_count": 13,
   "metadata": {},
   "outputs": [
    {
     "data": {
      "text/html": [
       "<div>\n",
       "<style scoped>\n",
       "    .dataframe tbody tr th:only-of-type {\n",
       "        vertical-align: middle;\n",
       "    }\n",
       "\n",
       "    .dataframe tbody tr th {\n",
       "        vertical-align: top;\n",
       "    }\n",
       "\n",
       "    .dataframe thead th {\n",
       "        text-align: right;\n",
       "    }\n",
       "</style>\n",
       "<table border=\"1\" class=\"dataframe\">\n",
       "  <thead>\n",
       "    <tr style=\"text-align: right;\">\n",
       "      <th></th>\n",
       "      <th>count</th>\n",
       "      <th>percentage</th>\n",
       "    </tr>\n",
       "  </thead>\n",
       "  <tbody>\n",
       "    <tr>\n",
       "      <th>False</th>\n",
       "      <td>2461</td>\n",
       "      <td>0.9844</td>\n",
       "    </tr>\n",
       "    <tr>\n",
       "      <th>True</th>\n",
       "      <td>39</td>\n",
       "      <td>0.0156</td>\n",
       "    </tr>\n",
       "  </tbody>\n",
       "</table>\n",
       "</div>"
      ],
      "text/plain": [
       "       count  percentage\n",
       "False   2461      0.9844\n",
       "True      39      0.0156"
      ]
     },
     "execution_count": 13,
     "metadata": {},
     "output_type": "execute_result"
    }
   ],
   "source": [
    "value_counts(df_prod_new, \"is_page_gone\")"
   ]
  },
  {
   "cell_type": "code",
   "execution_count": 14,
   "metadata": {},
   "outputs": [
    {
     "data": {
      "text/html": [
       "<div>\n",
       "<style scoped>\n",
       "    .dataframe tbody tr th:only-of-type {\n",
       "        vertical-align: middle;\n",
       "    }\n",
       "\n",
       "    .dataframe tbody tr th {\n",
       "        vertical-align: top;\n",
       "    }\n",
       "\n",
       "    .dataframe thead th {\n",
       "        text-align: right;\n",
       "    }\n",
       "</style>\n",
       "<table border=\"1\" class=\"dataframe\">\n",
       "  <thead>\n",
       "    <tr style=\"text-align: right;\">\n",
       "      <th></th>\n",
       "      <th>count</th>\n",
       "      <th>percentage</th>\n",
       "    </tr>\n",
       "  </thead>\n",
       "  <tbody>\n",
       "    <tr>\n",
       "      <th>False</th>\n",
       "      <td>2416</td>\n",
       "      <td>0.9664</td>\n",
       "    </tr>\n",
       "    <tr>\n",
       "      <th>True</th>\n",
       "      <td>84</td>\n",
       "      <td>0.0336</td>\n",
       "    </tr>\n",
       "  </tbody>\n",
       "</table>\n",
       "</div>"
      ],
      "text/plain": [
       "       count  percentage\n",
       "False   2416      0.9664\n",
       "True      84      0.0336"
      ]
     },
     "execution_count": 14,
     "metadata": {},
     "output_type": "execute_result"
    }
   ],
   "source": [
    "value_counts(df_prod_new, \"no_buybox_winner\")"
   ]
  },
  {
   "cell_type": "code",
   "execution_count": 15,
   "metadata": {},
   "outputs": [
    {
     "data": {
      "text/plain": [
       "0.0768"
      ]
     },
     "execution_count": 15,
     "metadata": {},
     "output_type": "execute_result"
    }
   ],
   "source": [
    "# what percentage of pages are out of stock or gone\n",
    "len(df_prod_new[(df_prod_new.is_out_of_stock == True) | \n",
    "                (df_prod_new.is_page_gone == True)]) / len(df_prod_new)"
   ]
  },
  {
   "cell_type": "code",
   "execution_count": 16,
   "metadata": {},
   "outputs": [],
   "source": [
    "df_prod_new.fillna(value=np.nan, inplace=True)\n",
    "df_prod.fillna(value=np.nan, inplace=True)"
   ]
  },
  {
   "cell_type": "code",
   "execution_count": 17,
   "metadata": {},
   "outputs": [
    {
     "data": {
      "text/plain": [
       "2500"
      ]
     },
     "execution_count": 17,
     "metadata": {},
     "output_type": "execute_result"
    }
   ],
   "source": [
    "len(df_prod_new)"
   ]
  },
  {
   "cell_type": "code",
   "execution_count": 18,
   "metadata": {},
   "outputs": [],
   "source": [
    "# make a dataframe of new and old product page info\n",
    "df = df_prod[df_prod.asin.isin(df_prod_new.asin.unique())].merge(df_prod_new, on='asin', suffixes= ('_og', '_new'))"
   ]
  },
  {
   "cell_type": "code",
   "execution_count": 19,
   "metadata": {},
   "outputs": [],
   "source": [
    "amazon_sellers = ['zappos', 'whole foods', 'amazon']\n",
    "\n",
    "def who_switched(row, col1='sold_by_new', col2='sold_by_og'):\n",
    "    sold_new = False\n",
    "    sold_old = False\n",
    "    if any(seller in str(row[col1]).lower() for seller in amazon_sellers):\n",
    "        sold_new = True\n",
    "    if any(seller in str(row[col2]).lower() for seller in amazon_sellers):\n",
    "        sold_old = True\n",
    "    \n",
    "    if sold_new == False and sold_old == False:\n",
    "        return 'third party'\n",
    "    \n",
    "    if sold_new == True and sold_old == False:\n",
    "        return 'to amazon'\n",
    "    \n",
    "    if sold_new == False and sold_old == True:\n",
    "        return 'to third party'\n",
    "    \n",
    "    if sold_new == True and sold_old == True:\n",
    "        return \"amazon\"\n",
    "    \n",
    "def seller_switch(row):\n",
    "    return who_switched(row, col1='shipped_by_new', col2='shipped_by_og')"
   ]
  },
  {
   "cell_type": "code",
   "execution_count": 20,
   "metadata": {},
   "outputs": [
    {
     "data": {
      "text/plain": [
       "2103"
      ]
     },
     "execution_count": 20,
     "metadata": {},
     "output_type": "execute_result"
    }
   ],
   "source": [
    "df = df[~(df.sold_by_new.isnull() | df.sold_by_og.isnull())]\n",
    "len(df)"
   ]
  },
  {
   "cell_type": "code",
   "execution_count": 21,
   "metadata": {},
   "outputs": [
    {
     "data": {
      "text/plain": [
       "False    0.697575\n",
       "True     0.302425\n",
       "Name: is_sold_by_amazon_og, dtype: float64"
      ]
     },
     "execution_count": 21,
     "metadata": {},
     "output_type": "execute_result"
    }
   ],
   "source": [
    "df.is_sold_by_amazon_og.value_counts(normalize=True)"
   ]
  },
  {
   "cell_type": "code",
   "execution_count": 22,
   "metadata": {},
   "outputs": [
    {
     "data": {
      "text/plain": [
       "True     0.886353\n",
       "False    0.113647\n",
       "Name: is_shipped_by_amazon_new, dtype: float64"
      ]
     },
     "execution_count": 22,
     "metadata": {},
     "output_type": "execute_result"
    }
   ],
   "source": [
    "df.is_shipped_by_amazon_new.value_counts(normalize=True)"
   ]
  },
  {
   "cell_type": "code",
   "execution_count": 23,
   "metadata": {},
   "outputs": [],
   "source": [
    "df['seller_delta'] = df.apply(who_switched, axis=1)\n",
    "df['shipper_delta'] = df.apply(seller_switch, axis=1)"
   ]
  },
  {
   "cell_type": "code",
   "execution_count": 24,
   "metadata": {},
   "outputs": [
    {
     "data": {
      "text/plain": [
       "True     0.839277\n",
       "False    0.160723\n",
       "dtype: float64"
      ]
     },
     "execution_count": 24,
     "metadata": {},
     "output_type": "execute_result"
    }
   ],
   "source": [
    "# how many changed at all?\n",
    "(df['sold_by_new'] == df['sold_by_og']).value_counts(normalize=True)"
   ]
  },
  {
   "cell_type": "code",
   "execution_count": 25,
   "metadata": {},
   "outputs": [
    {
     "data": {
      "text/html": [
       "<div>\n",
       "<style scoped>\n",
       "    .dataframe tbody tr th:only-of-type {\n",
       "        vertical-align: middle;\n",
       "    }\n",
       "\n",
       "    .dataframe tbody tr th {\n",
       "        vertical-align: top;\n",
       "    }\n",
       "\n",
       "    .dataframe thead th {\n",
       "        text-align: right;\n",
       "    }\n",
       "</style>\n",
       "<table border=\"1\" class=\"dataframe\">\n",
       "  <thead>\n",
       "    <tr style=\"text-align: right;\">\n",
       "      <th></th>\n",
       "      <th>count</th>\n",
       "      <th>percentage</th>\n",
       "    </tr>\n",
       "  </thead>\n",
       "  <tbody>\n",
       "    <tr>\n",
       "      <th>third party</th>\n",
       "      <td>257</td>\n",
       "      <td>0.760355</td>\n",
       "    </tr>\n",
       "    <tr>\n",
       "      <th>to amazon</th>\n",
       "      <td>34</td>\n",
       "      <td>0.100592</td>\n",
       "    </tr>\n",
       "    <tr>\n",
       "      <th>to third party</th>\n",
       "      <td>32</td>\n",
       "      <td>0.094675</td>\n",
       "    </tr>\n",
       "    <tr>\n",
       "      <th>amazon</th>\n",
       "      <td>15</td>\n",
       "      <td>0.044379</td>\n",
       "    </tr>\n",
       "  </tbody>\n",
       "</table>\n",
       "</div>"
      ],
      "text/plain": [
       "                count  percentage\n",
       "third party       257    0.760355\n",
       "to amazon          34    0.100592\n",
       "to third party     32    0.094675\n",
       "amazon             15    0.044379"
      ]
     },
     "execution_count": 25,
     "metadata": {},
     "output_type": "execute_result"
    }
   ],
   "source": [
    "value_counts(df[df.sold_by_new != df.sold_by_og], \"seller_delta\")"
   ]
  },
  {
   "cell_type": "code",
   "execution_count": 26,
   "metadata": {},
   "outputs": [
    {
     "data": {
      "text/html": [
       "<div>\n",
       "<style scoped>\n",
       "    .dataframe tbody tr th:only-of-type {\n",
       "        vertical-align: middle;\n",
       "    }\n",
       "\n",
       "    .dataframe tbody tr th {\n",
       "        vertical-align: top;\n",
       "    }\n",
       "\n",
       "    .dataframe thead th {\n",
       "        text-align: right;\n",
       "    }\n",
       "</style>\n",
       "<table border=\"1\" class=\"dataframe\">\n",
       "  <thead>\n",
       "    <tr style=\"text-align: right;\">\n",
       "      <th></th>\n",
       "      <th>count</th>\n",
       "      <th>percentage</th>\n",
       "    </tr>\n",
       "  </thead>\n",
       "  <tbody>\n",
       "    <tr>\n",
       "      <th>third party</th>\n",
       "      <td>1433</td>\n",
       "      <td>0.681408</td>\n",
       "    </tr>\n",
       "    <tr>\n",
       "      <th>amazon</th>\n",
       "      <td>604</td>\n",
       "      <td>0.287209</td>\n",
       "    </tr>\n",
       "    <tr>\n",
       "      <th>to amazon</th>\n",
       "      <td>34</td>\n",
       "      <td>0.016167</td>\n",
       "    </tr>\n",
       "    <tr>\n",
       "      <th>to third party</th>\n",
       "      <td>32</td>\n",
       "      <td>0.015216</td>\n",
       "    </tr>\n",
       "  </tbody>\n",
       "</table>\n",
       "</div>"
      ],
      "text/plain": [
       "                count  percentage\n",
       "third party      1433    0.681408\n",
       "amazon            604    0.287209\n",
       "to amazon          34    0.016167\n",
       "to third party     32    0.015216"
      ]
     },
     "execution_count": 26,
     "metadata": {},
     "output_type": "execute_result"
    }
   ],
   "source": [
    "value_counts(df, \"seller_delta\")"
   ]
  },
  {
   "cell_type": "code",
   "execution_count": 27,
   "metadata": {},
   "outputs": [],
   "source": [
    "def get_confidence_interval(perc = 1.5,\n",
    "                            ss = 25,\n",
    "                            pop = 100,\n",
    "                            confidence_level = 95):\n",
    "    \"\"\"\n",
    "    Calculates confidence interval given a percentage, sample size, and population size.\n",
    "    taken from: https://www.surveysystem.com/sscalc.htm\n",
    "    see: https://opentextbc.ca/introbusinessstatopenstax/chapter/a-confidence-interval-for-a-population-proportion/\n",
    "    \"\"\"\n",
    "    conf2z = {\n",
    "        95 : 3.8416,\n",
    "        99 : 6.6564\n",
    "    }\n",
    "    \n",
    "    zValC = conf2z.get(confidence_level)\n",
    "    if pop == 0:\n",
    "        pf = 1\n",
    "    else:\n",
    "        pf = (pop - ss) / (pop - 1)\n",
    "\n",
    "    return math.sqrt(zValC * (perc / 100) * (1 - perc / 100) / ss * pf) * 100   "
   ]
  },
  {
   "cell_type": "code",
   "execution_count": 28,
   "metadata": {},
   "outputs": [
    {
     "data": {
      "text/plain": [
       "(1.6167379933428434, 0.5354235980761819)"
      ]
     },
     "execution_count": 28,
     "metadata": {},
     "output_type": "execute_result"
    }
   ],
   "source": [
    "# seller changes to Amazon\n",
    "perc_seller_to_amazon = df[df.seller_delta.isin(['to amazon', 'to amazon'])].asin.nunique() / df.asin.nunique() * 100\n",
    "CI = get_confidence_interval(perc_seller_to_amazon, ss=len(df), pop=df_prod.asin.nunique())\n",
    "perc_seller_to_amazon, CI\n",
    "# perc_seller_to_amazon - CI, perc_seller_to_amazon + CI"
   ]
  },
  {
   "cell_type": "code",
   "execution_count": 29,
   "metadata": {},
   "outputs": [
    {
     "data": {
      "text/plain": [
       "(3.138373751783167, 0.7401935334253164)"
      ]
     },
     "execution_count": 29,
     "metadata": {},
     "output_type": "execute_result"
    }
   ],
   "source": [
    "# seller changes to third-party\n",
    "perc_seller_to_3p = df[df.seller_delta.isin(['to amazon', 'to third party'])].asin.nunique() / df.asin.nunique() * 100\n",
    "CI = get_confidence_interval(perc_seller_to_3p, ss=len(df), pop=df_prod.asin.nunique())\n",
    "perc_seller_to_3p, CI\n",
    "# perc_seller_to_3p - CI, perc_seller_to_3p + CI"
   ]
  },
  {
   "cell_type": "code",
   "execution_count": 30,
   "metadata": {},
   "outputs": [
    {
     "data": {
      "text/plain": [
       "(2.8530670470756063, 0.7067854701849021)"
      ]
     },
     "execution_count": 30,
     "metadata": {},
     "output_type": "execute_result"
    }
   ],
   "source": [
    "# shipper changes to Amazon\n",
    "perc_shipper_to_amazon = df[df.shipper_delta.isin(['to amazon', 'to amazon'])].asin.nunique() / df.asin.nunique() * 100\n",
    "CI = get_confidence_interval(perc_shipper_to_amazon, ss=len(df),pop=df_prod.asin.nunique())\n",
    "perc_shipper_to_amazon, CI\n",
    "# perc_shipper_to_amazon - CI, perc_shipper_to_amazon + CI"
   ]
  },
  {
   "cell_type": "code",
   "execution_count": 31,
   "metadata": {},
   "outputs": [
    {
     "data": {
      "text/plain": [
       "(6.609605325725154, 1.0547655730262855)"
      ]
     },
     "execution_count": 31,
     "metadata": {},
     "output_type": "execute_result"
    }
   ],
   "source": [
    "# shipper changes to third-party\n",
    "perc_shipper_to_3p = df[df.shipper_delta.isin(['to amazon', 'to third party'])].asin.nunique() / df.asin.nunique() * 100\n",
    "CI = get_confidence_interval(perc_shipper_to_3p, ss=len(df), pop=df_prod.asin.nunique())\n",
    "perc_shipper_to_3p, CI\n",
    "# perc_shipper_to_3p - CI, perc_shipper_to_3p + CI"
   ]
  },
  {
   "cell_type": "markdown",
   "metadata": {},
   "source": [
    "## How often do third party merchants change?"
   ]
  },
  {
   "cell_type": "code",
   "execution_count": 32,
   "metadata": {},
   "outputs": [
    {
     "data": {
      "text/plain": [
       "0.1793440334961619"
      ]
     },
     "execution_count": 32,
     "metadata": {},
     "output_type": "execute_result"
    }
   ],
   "source": [
    "third_party_seller = df[df.seller_delta == 'third party']\n",
    "len(third_party_seller[third_party_seller.sold_by_new != third_party_seller.sold_by_og]) / len(third_party_seller)"
   ]
  },
  {
   "cell_type": "code",
   "execution_count": 33,
   "metadata": {},
   "outputs": [
    {
     "data": {
      "text/plain": [
       "Amazon.com                 0.272468\n",
       "Whole Foods Market         0.009510\n",
       "AmazonFresh                0.008559\n",
       "Amazon.com Services LLC    0.004755\n",
       "Pharmapacks                0.003329\n",
       "Amazon KINDLE              0.002378\n",
       "Amazon Warehouse           0.001902\n",
       "Zappos                     0.001902\n",
       "Teslagear Inc.             0.001427\n",
       "wrestling_superstore       0.001427\n",
       "Jockey                     0.001427\n",
       "MYBATTERYSUPPLIER          0.001427\n",
       "Eddie Bauer                0.001427\n",
       "recommerce                 0.001427\n",
       "imagikids LLC              0.001427\n",
       "bululuo                    0.001427\n",
       "SilverPoint                0.001427\n",
       "VM Express                 0.001427\n",
       "SweatyRocks                0.001427\n",
       "Miulee Home                0.001427\n",
       "Name: sold_by_og, dtype: float64"
      ]
     },
     "execution_count": 33,
     "metadata": {},
     "output_type": "execute_result"
    }
   ],
   "source": [
    "df.sold_by_og.value_counts(normalize=True).head(20)"
   ]
  },
  {
   "cell_type": "markdown",
   "metadata": {},
   "source": [
    "## Compare to the 2016 Northeastern study\n",
    "The study looked at best-selling products from multiple sellers."
   ]
  },
  {
   "cell_type": "code",
   "execution_count": 34,
   "metadata": {},
   "outputs": [
    {
     "data": {
      "text/plain": [
       "True     0.765095\n",
       "False    0.234905\n",
       "dtype: float64"
      ]
     },
     "execution_count": 34,
     "metadata": {},
     "output_type": "execute_result"
    }
   ],
   "source": [
    "df_ne = df[df.has_third_party_sellers_new == True]\n",
    "(df_ne['sold_by_new'] == df_ne['sold_by_og']).value_counts(normalize=True)"
   ]
  },
  {
   "cell_type": "code",
   "execution_count": 35,
   "metadata": {},
   "outputs": [
    {
     "data": {
      "text/plain": [
       "False    0.600496\n",
       "True     0.399504\n",
       "Name: is_sold_by_amazon_og, dtype: float64"
      ]
     },
     "execution_count": 35,
     "metadata": {},
     "output_type": "execute_result"
    }
   ],
   "source": [
    "df_ne.is_sold_by_amazon_og.value_counts(normalize=True)"
   ]
  },
  {
   "cell_type": "code",
   "execution_count": 36,
   "metadata": {},
   "outputs": [
    {
     "data": {
      "text/plain": [
       "True     0.901408\n",
       "False    0.098592\n",
       "Name: is_shipped_by_amazon_og, dtype: float64"
      ]
     },
     "execution_count": 36,
     "metadata": {},
     "output_type": "execute_result"
    }
   ],
   "source": [
    "df_ne.is_shipped_by_amazon_og.value_counts(normalize=True)"
   ]
  },
  {
   "cell_type": "code",
   "execution_count": 37,
   "metadata": {},
   "outputs": [
    {
     "data": {
      "text/plain": [
       "(2.0678246484698097, 0.7990786868465768)"
      ]
     },
     "execution_count": 37,
     "metadata": {},
     "output_type": "execute_result"
    }
   ],
   "source": [
    "# seller changes to Amazon\n",
    "perc_seller_to_amazon = df_ne[df_ne.seller_delta.isin(['to amazon', 'to amazon'])].asin.nunique() / df_ne.asin.nunique() * 100\n",
    "CI = get_confidence_interval(perc_seller_to_amazon, ss=len(df_ne), pop=df_prod.asin.nunique())\n",
    "perc_seller_to_amazon, CI\n",
    "# perc_seller_to_amazon - CI, perc_seller_to_amazon + CI"
   ]
  },
  {
   "cell_type": "code",
   "execution_count": 38,
   "metadata": {},
   "outputs": [
    {
     "data": {
      "text/plain": [
       "(4.383788254755997, 1.1496364992860233)"
      ]
     },
     "execution_count": 38,
     "metadata": {},
     "output_type": "execute_result"
    }
   ],
   "source": [
    "# seller changes to third-party\n",
    "perc_seller_to_3p = df_ne[df_ne.seller_delta.isin(['to amazon', 'to third party'])].asin.nunique() / df_ne.asin.nunique() * 100\n",
    "CI = get_confidence_interval(perc_seller_to_3p, ss=len(df_ne), pop=df_prod.asin.nunique())\n",
    "perc_seller_to_3p, CI\n",
    "# perc_seller_to_3p - CI, perc_seller_to_3p + CI"
   ]
  },
  {
   "cell_type": "code",
   "execution_count": 39,
   "metadata": {},
   "outputs": [
    {
     "data": {
      "text/plain": [
       "(2.3300047551117453, 0.8470888778157493)"
      ]
     },
     "execution_count": 39,
     "metadata": {},
     "output_type": "execute_result"
    }
   ],
   "source": [
    "# shipper changes to Amazon\n",
    "perc_shipper_to_amazon = df_ne[df_ne.shipper_delta.isin(['to amazon', 'to amazon'])].asin.nunique() / df.asin.nunique() * 100\n",
    "CI = get_confidence_interval(perc_shipper_to_amazon, ss=len(df_ne),pop=df_prod.asin.nunique())\n",
    "perc_shipper_to_amazon, CI\n",
    "# perc_shipper_to_amazon - CI, perc_shipper_to_amazon + CI"
   ]
  },
  {
   "cell_type": "code",
   "execution_count": 40,
   "metadata": {},
   "outputs": [
    {
     "data": {
      "text/plain": [
       "(7.775020678246484, 1.5036440919325724)"
      ]
     },
     "execution_count": 40,
     "metadata": {},
     "output_type": "execute_result"
    }
   ],
   "source": [
    "# shipper changes to third-party\n",
    "perc_shipper_to_3p = df_ne[df_ne.shipper_delta.isin(['to amazon', 'to third party'])].asin.nunique() / df_ne.asin.nunique() * 100\n",
    "CI = get_confidence_interval(perc_shipper_to_3p, ss=len(df_ne), pop=df_prod.asin.nunique())\n",
    "perc_shipper_to_3p, CI\n",
    "# perc_shipper_to_3p - CI, perc_shipper_to_3p + CI"
   ]
  },
  {
   "cell_type": "code",
   "execution_count": 41,
   "metadata": {},
   "outputs": [
    {
     "data": {
      "text/plain": [
       "0.31383737517831667"
      ]
     },
     "execution_count": 41,
     "metadata": {},
     "output_type": "execute_result"
    }
   ],
   "source": [
    "third_party_seller = df_ne[df_ne.seller_delta == 'third party']\n",
    "len(third_party_seller[third_party_seller.sold_by_new != third_party_seller.sold_by_og]) / len(third_party_seller)"
   ]
  },
  {
   "cell_type": "code",
   "execution_count": 42,
   "metadata": {},
   "outputs": [
    {
     "data": {
      "text/plain": [
       "Amazon.com            0.375517\n",
       "AmazonFresh           0.007444\n",
       "Pharmapacks           0.005790\n",
       "Whole Foods Market    0.004963\n",
       "Amazon KINDLE         0.004136\n",
       "Zappos                0.003309\n",
       "SilverPoint           0.002481\n",
       "recommerce            0.002481\n",
       "Amazon Warehouse      0.002481\n",
       "MYBATTERYSUPPLIER     0.002481\n",
       "SilicaGelProducts     0.001654\n",
       "Toy Planet            0.001654\n",
       "Heartland Food        0.001654\n",
       "MAV Supply            0.001654\n",
       "imagikids LLC         0.001654\n",
       "KAMANINA US           0.001654\n",
       "YuLang-US             0.001654\n",
       "RGM GROUP             0.001654\n",
       "VeeTrends             0.001654\n",
       "NetRush               0.001654\n",
       "Name: sold_by_og, dtype: float64"
      ]
     },
     "execution_count": 42,
     "metadata": {},
     "output_type": "execute_result"
    }
   ],
   "source": [
    "df_ne.sold_by_og.value_counts(normalize=True).head(20)"
   ]
  },
  {
   "cell_type": "code",
   "execution_count": null,
   "metadata": {},
   "outputs": [],
   "source": []
  }
 ],
 "metadata": {
  "kernelspec": {
   "display_name": "Python 3",
   "language": "python",
   "name": "python3"
  },
  "language_info": {
   "codemirror_mode": {
    "name": "ipython",
    "version": 3
   },
   "file_extension": ".py",
   "mimetype": "text/x-python",
   "name": "python",
   "nbconvert_exporter": "python",
   "pygments_lexer": "ipython3",
   "version": "3.8.1"
  }
 },
 "nbformat": 4,
 "nbformat_minor": 4
}
